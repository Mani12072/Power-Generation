{
  "nbformat": 4,
  "nbformat_minor": 0,
  "metadata": {
    "colab": {
      "provenance": []
    },
    "kernelspec": {
      "name": "python3",
      "display_name": "Python 3"
    },
    "language_info": {
      "name": "python"
    }
  },
  "cells": [
    {
      "cell_type": "code",
      "execution_count": null,
      "metadata": {
        "id": "oVBniYy6_WJy"
      },
      "outputs": [],
      "source": [
        "import pandas as pd\n",
        "import numpy as np"
      ]
    },
    {
      "cell_type": "code",
      "source": [
        "main_power = pd.read_csv(\"/content/PowerGeneration.csv\")"
      ],
      "metadata": {
        "id": "5M07JB7DWvng"
      },
      "execution_count": null,
      "outputs": []
    },
    {
      "cell_type": "code",
      "source": [
        "power1=main_power.copy()\n"
      ],
      "metadata": {
        "id": "PXzn0p7oW8NN"
      },
      "execution_count": null,
      "outputs": []
    },
    {
      "cell_type": "code",
      "source": [
        "power1.head()"
      ],
      "metadata": {
        "colab": {
          "base_uri": "https://localhost:8080/",
          "height": 362
        },
        "id": "I6OJokC0XGQR",
        "outputId": "4e4dc640-c130-4cc5-b776-6cdd7ee2f84f"
      },
      "execution_count": null,
      "outputs": [
        {
          "output_type": "execute_result",
          "data": {
            "text/plain": [
              "        Dates      Power Station  Monitored Cap.(MW)  \\\n",
              "0  2017-09-01              Delhi              2235.4   \n",
              "1  2017-09-01            Haryana              2720.0   \n",
              "2  2017-09-01   Himachal Pradesh              3378.0   \n",
              "3  2017-09-01  Jammu and Kashmir              1285.0   \n",
              "4  2017-09-01             Punjab              3826.3   \n",
              "\n",
              "   Total Cap. Under Maintenace (MW)  Planned Maintanence (MW)  \\\n",
              "0                            135.00                      0.00   \n",
              "1                           2470.00                      0.00   \n",
              "2                            379.00                      0.00   \n",
              "3                            150.00                      0.00   \n",
              "4                           2697.65                     77.65   \n",
              "\n",
              "   Forced Maintanence(MW)  Other Reasons (MW)  Programme or Expected(MU)  \\\n",
              "0                   135.0                   0                         13   \n",
              "1                  2470.0                   0                         28   \n",
              "2                   231.0                   0                         40   \n",
              "3                     0.0                   0                         14   \n",
              "4                  2620.0                   0                         39   \n",
              "\n",
              "   Actual(MU)  Excess(+) / Shortfall (-)  Deviation  \n",
              "0          18                       5.00        0.0  \n",
              "1           7                     -21.80        0.0  \n",
              "2          46                       5.63        0.0  \n",
              "3          23                       9.43        0.0  \n",
              "4          17                     -21.69        0.0  "
            ],
            "text/html": [
              "\n",
              "  <div id=\"df-f31f1c35-9f68-45fd-8e1d-6afc8d009b40\" class=\"colab-df-container\">\n",
              "    <div>\n",
              "<style scoped>\n",
              "    .dataframe tbody tr th:only-of-type {\n",
              "        vertical-align: middle;\n",
              "    }\n",
              "\n",
              "    .dataframe tbody tr th {\n",
              "        vertical-align: top;\n",
              "    }\n",
              "\n",
              "    .dataframe thead th {\n",
              "        text-align: right;\n",
              "    }\n",
              "</style>\n",
              "<table border=\"1\" class=\"dataframe\">\n",
              "  <thead>\n",
              "    <tr style=\"text-align: right;\">\n",
              "      <th></th>\n",
              "      <th>Dates</th>\n",
              "      <th>Power Station</th>\n",
              "      <th>Monitored Cap.(MW)</th>\n",
              "      <th>Total Cap. Under Maintenace (MW)</th>\n",
              "      <th>Planned Maintanence (MW)</th>\n",
              "      <th>Forced Maintanence(MW)</th>\n",
              "      <th>Other Reasons (MW)</th>\n",
              "      <th>Programme or Expected(MU)</th>\n",
              "      <th>Actual(MU)</th>\n",
              "      <th>Excess(+) / Shortfall (-)</th>\n",
              "      <th>Deviation</th>\n",
              "    </tr>\n",
              "  </thead>\n",
              "  <tbody>\n",
              "    <tr>\n",
              "      <th>0</th>\n",
              "      <td>2017-09-01</td>\n",
              "      <td>Delhi</td>\n",
              "      <td>2235.4</td>\n",
              "      <td>135.00</td>\n",
              "      <td>0.00</td>\n",
              "      <td>135.0</td>\n",
              "      <td>0</td>\n",
              "      <td>13</td>\n",
              "      <td>18</td>\n",
              "      <td>5.00</td>\n",
              "      <td>0.0</td>\n",
              "    </tr>\n",
              "    <tr>\n",
              "      <th>1</th>\n",
              "      <td>2017-09-01</td>\n",
              "      <td>Haryana</td>\n",
              "      <td>2720.0</td>\n",
              "      <td>2470.00</td>\n",
              "      <td>0.00</td>\n",
              "      <td>2470.0</td>\n",
              "      <td>0</td>\n",
              "      <td>28</td>\n",
              "      <td>7</td>\n",
              "      <td>-21.80</td>\n",
              "      <td>0.0</td>\n",
              "    </tr>\n",
              "    <tr>\n",
              "      <th>2</th>\n",
              "      <td>2017-09-01</td>\n",
              "      <td>Himachal Pradesh</td>\n",
              "      <td>3378.0</td>\n",
              "      <td>379.00</td>\n",
              "      <td>0.00</td>\n",
              "      <td>231.0</td>\n",
              "      <td>0</td>\n",
              "      <td>40</td>\n",
              "      <td>46</td>\n",
              "      <td>5.63</td>\n",
              "      <td>0.0</td>\n",
              "    </tr>\n",
              "    <tr>\n",
              "      <th>3</th>\n",
              "      <td>2017-09-01</td>\n",
              "      <td>Jammu and Kashmir</td>\n",
              "      <td>1285.0</td>\n",
              "      <td>150.00</td>\n",
              "      <td>0.00</td>\n",
              "      <td>0.0</td>\n",
              "      <td>0</td>\n",
              "      <td>14</td>\n",
              "      <td>23</td>\n",
              "      <td>9.43</td>\n",
              "      <td>0.0</td>\n",
              "    </tr>\n",
              "    <tr>\n",
              "      <th>4</th>\n",
              "      <td>2017-09-01</td>\n",
              "      <td>Punjab</td>\n",
              "      <td>3826.3</td>\n",
              "      <td>2697.65</td>\n",
              "      <td>77.65</td>\n",
              "      <td>2620.0</td>\n",
              "      <td>0</td>\n",
              "      <td>39</td>\n",
              "      <td>17</td>\n",
              "      <td>-21.69</td>\n",
              "      <td>0.0</td>\n",
              "    </tr>\n",
              "  </tbody>\n",
              "</table>\n",
              "</div>\n",
              "    <div class=\"colab-df-buttons\">\n",
              "\n",
              "  <div class=\"colab-df-container\">\n",
              "    <button class=\"colab-df-convert\" onclick=\"convertToInteractive('df-f31f1c35-9f68-45fd-8e1d-6afc8d009b40')\"\n",
              "            title=\"Convert this dataframe to an interactive table.\"\n",
              "            style=\"display:none;\">\n",
              "\n",
              "  <svg xmlns=\"http://www.w3.org/2000/svg\" height=\"24px\" viewBox=\"0 -960 960 960\">\n",
              "    <path d=\"M120-120v-720h720v720H120Zm60-500h600v-160H180v160Zm220 220h160v-160H400v160Zm0 220h160v-160H400v160ZM180-400h160v-160H180v160Zm440 0h160v-160H620v160ZM180-180h160v-160H180v160Zm440 0h160v-160H620v160Z\"/>\n",
              "  </svg>\n",
              "    </button>\n",
              "\n",
              "  <style>\n",
              "    .colab-df-container {\n",
              "      display:flex;\n",
              "      gap: 12px;\n",
              "    }\n",
              "\n",
              "    .colab-df-convert {\n",
              "      background-color: #E8F0FE;\n",
              "      border: none;\n",
              "      border-radius: 50%;\n",
              "      cursor: pointer;\n",
              "      display: none;\n",
              "      fill: #1967D2;\n",
              "      height: 32px;\n",
              "      padding: 0 0 0 0;\n",
              "      width: 32px;\n",
              "    }\n",
              "\n",
              "    .colab-df-convert:hover {\n",
              "      background-color: #E2EBFA;\n",
              "      box-shadow: 0px 1px 2px rgba(60, 64, 67, 0.3), 0px 1px 3px 1px rgba(60, 64, 67, 0.15);\n",
              "      fill: #174EA6;\n",
              "    }\n",
              "\n",
              "    .colab-df-buttons div {\n",
              "      margin-bottom: 4px;\n",
              "    }\n",
              "\n",
              "    [theme=dark] .colab-df-convert {\n",
              "      background-color: #3B4455;\n",
              "      fill: #D2E3FC;\n",
              "    }\n",
              "\n",
              "    [theme=dark] .colab-df-convert:hover {\n",
              "      background-color: #434B5C;\n",
              "      box-shadow: 0px 1px 3px 1px rgba(0, 0, 0, 0.15);\n",
              "      filter: drop-shadow(0px 1px 2px rgba(0, 0, 0, 0.3));\n",
              "      fill: #FFFFFF;\n",
              "    }\n",
              "  </style>\n",
              "\n",
              "    <script>\n",
              "      const buttonEl =\n",
              "        document.querySelector('#df-f31f1c35-9f68-45fd-8e1d-6afc8d009b40 button.colab-df-convert');\n",
              "      buttonEl.style.display =\n",
              "        google.colab.kernel.accessAllowed ? 'block' : 'none';\n",
              "\n",
              "      async function convertToInteractive(key) {\n",
              "        const element = document.querySelector('#df-f31f1c35-9f68-45fd-8e1d-6afc8d009b40');\n",
              "        const dataTable =\n",
              "          await google.colab.kernel.invokeFunction('convertToInteractive',\n",
              "                                                    [key], {});\n",
              "        if (!dataTable) return;\n",
              "\n",
              "        const docLinkHtml = 'Like what you see? Visit the ' +\n",
              "          '<a target=\"_blank\" href=https://colab.research.google.com/notebooks/data_table.ipynb>data table notebook</a>'\n",
              "          + ' to learn more about interactive tables.';\n",
              "        element.innerHTML = '';\n",
              "        dataTable['output_type'] = 'display_data';\n",
              "        await google.colab.output.renderOutput(dataTable, element);\n",
              "        const docLink = document.createElement('div');\n",
              "        docLink.innerHTML = docLinkHtml;\n",
              "        element.appendChild(docLink);\n",
              "      }\n",
              "    </script>\n",
              "  </div>\n",
              "\n",
              "\n",
              "<div id=\"df-c5066694-0d8e-4c8f-a8de-446dbef27150\">\n",
              "  <button class=\"colab-df-quickchart\" onclick=\"quickchart('df-c5066694-0d8e-4c8f-a8de-446dbef27150')\"\n",
              "            title=\"Suggest charts\"\n",
              "            style=\"display:none;\">\n",
              "\n",
              "<svg xmlns=\"http://www.w3.org/2000/svg\" height=\"24px\"viewBox=\"0 0 24 24\"\n",
              "     width=\"24px\">\n",
              "    <g>\n",
              "        <path d=\"M19 3H5c-1.1 0-2 .9-2 2v14c0 1.1.9 2 2 2h14c1.1 0 2-.9 2-2V5c0-1.1-.9-2-2-2zM9 17H7v-7h2v7zm4 0h-2V7h2v10zm4 0h-2v-4h2v4z\"/>\n",
              "    </g>\n",
              "</svg>\n",
              "  </button>\n",
              "\n",
              "<style>\n",
              "  .colab-df-quickchart {\n",
              "      --bg-color: #E8F0FE;\n",
              "      --fill-color: #1967D2;\n",
              "      --hover-bg-color: #E2EBFA;\n",
              "      --hover-fill-color: #174EA6;\n",
              "      --disabled-fill-color: #AAA;\n",
              "      --disabled-bg-color: #DDD;\n",
              "  }\n",
              "\n",
              "  [theme=dark] .colab-df-quickchart {\n",
              "      --bg-color: #3B4455;\n",
              "      --fill-color: #D2E3FC;\n",
              "      --hover-bg-color: #434B5C;\n",
              "      --hover-fill-color: #FFFFFF;\n",
              "      --disabled-bg-color: #3B4455;\n",
              "      --disabled-fill-color: #666;\n",
              "  }\n",
              "\n",
              "  .colab-df-quickchart {\n",
              "    background-color: var(--bg-color);\n",
              "    border: none;\n",
              "    border-radius: 50%;\n",
              "    cursor: pointer;\n",
              "    display: none;\n",
              "    fill: var(--fill-color);\n",
              "    height: 32px;\n",
              "    padding: 0;\n",
              "    width: 32px;\n",
              "  }\n",
              "\n",
              "  .colab-df-quickchart:hover {\n",
              "    background-color: var(--hover-bg-color);\n",
              "    box-shadow: 0 1px 2px rgba(60, 64, 67, 0.3), 0 1px 3px 1px rgba(60, 64, 67, 0.15);\n",
              "    fill: var(--button-hover-fill-color);\n",
              "  }\n",
              "\n",
              "  .colab-df-quickchart-complete:disabled,\n",
              "  .colab-df-quickchart-complete:disabled:hover {\n",
              "    background-color: var(--disabled-bg-color);\n",
              "    fill: var(--disabled-fill-color);\n",
              "    box-shadow: none;\n",
              "  }\n",
              "\n",
              "  .colab-df-spinner {\n",
              "    border: 2px solid var(--fill-color);\n",
              "    border-color: transparent;\n",
              "    border-bottom-color: var(--fill-color);\n",
              "    animation:\n",
              "      spin 1s steps(1) infinite;\n",
              "  }\n",
              "\n",
              "  @keyframes spin {\n",
              "    0% {\n",
              "      border-color: transparent;\n",
              "      border-bottom-color: var(--fill-color);\n",
              "      border-left-color: var(--fill-color);\n",
              "    }\n",
              "    20% {\n",
              "      border-color: transparent;\n",
              "      border-left-color: var(--fill-color);\n",
              "      border-top-color: var(--fill-color);\n",
              "    }\n",
              "    30% {\n",
              "      border-color: transparent;\n",
              "      border-left-color: var(--fill-color);\n",
              "      border-top-color: var(--fill-color);\n",
              "      border-right-color: var(--fill-color);\n",
              "    }\n",
              "    40% {\n",
              "      border-color: transparent;\n",
              "      border-right-color: var(--fill-color);\n",
              "      border-top-color: var(--fill-color);\n",
              "    }\n",
              "    60% {\n",
              "      border-color: transparent;\n",
              "      border-right-color: var(--fill-color);\n",
              "    }\n",
              "    80% {\n",
              "      border-color: transparent;\n",
              "      border-right-color: var(--fill-color);\n",
              "      border-bottom-color: var(--fill-color);\n",
              "    }\n",
              "    90% {\n",
              "      border-color: transparent;\n",
              "      border-bottom-color: var(--fill-color);\n",
              "    }\n",
              "  }\n",
              "</style>\n",
              "\n",
              "  <script>\n",
              "    async function quickchart(key) {\n",
              "      const quickchartButtonEl =\n",
              "        document.querySelector('#' + key + ' button');\n",
              "      quickchartButtonEl.disabled = true;  // To prevent multiple clicks.\n",
              "      quickchartButtonEl.classList.add('colab-df-spinner');\n",
              "      try {\n",
              "        const charts = await google.colab.kernel.invokeFunction(\n",
              "            'suggestCharts', [key], {});\n",
              "      } catch (error) {\n",
              "        console.error('Error during call to suggestCharts:', error);\n",
              "      }\n",
              "      quickchartButtonEl.classList.remove('colab-df-spinner');\n",
              "      quickchartButtonEl.classList.add('colab-df-quickchart-complete');\n",
              "    }\n",
              "    (() => {\n",
              "      let quickchartButtonEl =\n",
              "        document.querySelector('#df-c5066694-0d8e-4c8f-a8de-446dbef27150 button');\n",
              "      quickchartButtonEl.style.display =\n",
              "        google.colab.kernel.accessAllowed ? 'block' : 'none';\n",
              "    })();\n",
              "  </script>\n",
              "</div>\n",
              "\n",
              "    </div>\n",
              "  </div>\n"
            ],
            "application/vnd.google.colaboratory.intrinsic+json": {
              "type": "dataframe",
              "variable_name": "power1"
            }
          },
          "metadata": {},
          "execution_count": 44
        }
      ]
    },
    {
      "cell_type": "code",
      "source": [
        "power1.columns"
      ],
      "metadata": {
        "colab": {
          "base_uri": "https://localhost:8080/"
        },
        "id": "9p33eFv1Ylsg",
        "outputId": "d6d91e44-8852-4b1e-db00-ac9c805a17da"
      },
      "execution_count": null,
      "outputs": [
        {
          "output_type": "execute_result",
          "data": {
            "text/plain": [
              "Index(['Dates', 'Power Station', 'Monitored Cap.(MW)',\n",
              "       'Total Cap. Under Maintenace (MW)', 'Planned Maintanence (MW)',\n",
              "       'Forced Maintanence(MW)', 'Other Reasons (MW)',\n",
              "       'Programme or Expected(MU)', 'Actual(MU)', 'Excess(+) / Shortfall (-)',\n",
              "       'Deviation'],\n",
              "      dtype='object')"
            ]
          },
          "metadata": {},
          "execution_count": 45
        }
      ]
    },
    {
      "cell_type": "code",
      "source": [
        "power1.columns=power1.columns.str.lower().str.replace(\" \",\"_\").str.replace(\"(+)_/_\",\"_or_\").str.replace(\"_(-)\",\"\").str.replace(\".\",\"_\")\n"
      ],
      "metadata": {
        "id": "1ORaoK-gZWFm"
      },
      "execution_count": null,
      "outputs": []
    },
    {
      "cell_type": "code",
      "source": [
        "power1['dates'] = pd.to_datetime(power1['dates'],format='%Y-%m-%d')\n",
        "power1['year']=power1['dates'].dt.year"
      ],
      "metadata": {
        "id": "QXepLGm7EEnc"
      },
      "execution_count": null,
      "outputs": []
    },
    {
      "cell_type": "markdown",
      "source": [
        "1.Which Power Station had the highest total 'Deviation' in 2020?"
      ],
      "metadata": {
        "id": "mgqL3QW8ECLk"
      }
    },
    {
      "cell_type": "code",
      "source": [
        "power1[power1['dates'].dt.year == 2020].groupby('power_station')['deviation'].max().head(1)"
      ],
      "metadata": {
        "colab": {
          "base_uri": "https://localhost:8080/",
          "height": 147
        },
        "id": "KhaxCrLwEBa8",
        "outputId": "96ce8f7e-ddda-4710-e0e4-0c3aa8d7e129"
      },
      "execution_count": null,
      "outputs": [
        {
          "output_type": "execute_result",
          "data": {
            "text/plain": [
              "power_station\n",
              "ABAN POWR    0.0\n",
              "Name: deviation, dtype: float64"
            ],
            "text/html": [
              "<div>\n",
              "<style scoped>\n",
              "    .dataframe tbody tr th:only-of-type {\n",
              "        vertical-align: middle;\n",
              "    }\n",
              "\n",
              "    .dataframe tbody tr th {\n",
              "        vertical-align: top;\n",
              "    }\n",
              "\n",
              "    .dataframe thead th {\n",
              "        text-align: right;\n",
              "    }\n",
              "</style>\n",
              "<table border=\"1\" class=\"dataframe\">\n",
              "  <thead>\n",
              "    <tr style=\"text-align: right;\">\n",
              "      <th></th>\n",
              "      <th>deviation</th>\n",
              "    </tr>\n",
              "    <tr>\n",
              "      <th>power_station</th>\n",
              "      <th></th>\n",
              "    </tr>\n",
              "  </thead>\n",
              "  <tbody>\n",
              "    <tr>\n",
              "      <th>ABAN POWR</th>\n",
              "      <td>0.0</td>\n",
              "    </tr>\n",
              "  </tbody>\n",
              "</table>\n",
              "</div><br><label><b>dtype:</b> float64</label>"
            ]
          },
          "metadata": {},
          "execution_count": 48
        }
      ]
    },
    {
      "cell_type": "markdown",
      "source": [
        "2.What is the average 'Forced Maintenance (MW)' for weekends in 2019?"
      ],
      "metadata": {
        "id": "-p2JgDzvXLLO"
      }
    },
    {
      "cell_type": "code",
      "source": [
        "#get week ends\n",
        "power1[\"weekends\"]=power1.dates.dt.dayofweek\n",
        "power1[\"weekends\"].unique()\n",
        "#condition for weekend\n",
        "power1[\"is_week_end\"]=(power1.weekends > 4) #0-mon\n"
      ],
      "metadata": {
        "id": "1mb-WolagKOG"
      },
      "execution_count": null,
      "outputs": []
    },
    {
      "cell_type": "code",
      "source": [
        "# select year and use group by\n",
        "power1[power1[\"year\"] == 2019].groupby('is_week_end')['forced_maintanence(mw)'].mean()"
      ],
      "metadata": {
        "colab": {
          "base_uri": "https://localhost:8080/",
          "height": 178
        },
        "id": "xpanJ-ZdiqKg",
        "outputId": "c56cbf76-9d88-4b12-8671-25382a664f74"
      },
      "execution_count": null,
      "outputs": [
        {
          "output_type": "execute_result",
          "data": {
            "text/plain": [
              "is_week_end\n",
              "False    318.453604\n",
              "True     323.957762\n",
              "Name: forced_maintanence(mw), dtype: float64"
            ],
            "text/html": [
              "<div>\n",
              "<style scoped>\n",
              "    .dataframe tbody tr th:only-of-type {\n",
              "        vertical-align: middle;\n",
              "    }\n",
              "\n",
              "    .dataframe tbody tr th {\n",
              "        vertical-align: top;\n",
              "    }\n",
              "\n",
              "    .dataframe thead th {\n",
              "        text-align: right;\n",
              "    }\n",
              "</style>\n",
              "<table border=\"1\" class=\"dataframe\">\n",
              "  <thead>\n",
              "    <tr style=\"text-align: right;\">\n",
              "      <th></th>\n",
              "      <th>forced_maintanence(mw)</th>\n",
              "    </tr>\n",
              "    <tr>\n",
              "      <th>is_week_end</th>\n",
              "      <th></th>\n",
              "    </tr>\n",
              "  </thead>\n",
              "  <tbody>\n",
              "    <tr>\n",
              "      <th>False</th>\n",
              "      <td>318.453604</td>\n",
              "    </tr>\n",
              "    <tr>\n",
              "      <th>True</th>\n",
              "      <td>323.957762</td>\n",
              "    </tr>\n",
              "  </tbody>\n",
              "</table>\n",
              "</div><br><label><b>dtype:</b> float64</label>"
            ]
          },
          "metadata": {},
          "execution_count": 50
        }
      ]
    },
    {
      "cell_type": "markdown",
      "source": [
        "3.What is the total number of days in 2020 where 'Total Cap. Under Maintenace (MW)' exceeded 'Monitored Cap.(MW)' ?"
      ],
      "metadata": {
        "id": "DMzVqSH9XLPB"
      }
    },
    {
      "cell_type": "code",
      "source": [
        "power1[power1[\"total_cap__under_maintenace_(mw)\"] > power1[\"monitored_cap_(mw)\"]].groupby(power1[\"year\"] == 2020)['year'].value_counts()"
      ],
      "metadata": {
        "colab": {
          "base_uri": "https://localhost:8080/",
          "height": 178
        },
        "id": "j55tp2GTnPaX",
        "outputId": "c5b40273-a116-4652-e757-105adc2a66e1"
      },
      "execution_count": null,
      "outputs": [
        {
          "output_type": "execute_result",
          "data": {
            "text/plain": [
              "year   year\n",
              "False  2018    180\n",
              "       2017    141\n",
              "Name: count, dtype: int64"
            ],
            "text/html": [
              "<div>\n",
              "<style scoped>\n",
              "    .dataframe tbody tr th:only-of-type {\n",
              "        vertical-align: middle;\n",
              "    }\n",
              "\n",
              "    .dataframe tbody tr th {\n",
              "        vertical-align: top;\n",
              "    }\n",
              "\n",
              "    .dataframe thead th {\n",
              "        text-align: right;\n",
              "    }\n",
              "</style>\n",
              "<table border=\"1\" class=\"dataframe\">\n",
              "  <thead>\n",
              "    <tr style=\"text-align: right;\">\n",
              "      <th></th>\n",
              "      <th></th>\n",
              "      <th>count</th>\n",
              "    </tr>\n",
              "    <tr>\n",
              "      <th>year</th>\n",
              "      <th>year</th>\n",
              "      <th></th>\n",
              "    </tr>\n",
              "  </thead>\n",
              "  <tbody>\n",
              "    <tr>\n",
              "      <th rowspan=\"2\" valign=\"top\">False</th>\n",
              "      <th>2018</th>\n",
              "      <td>180</td>\n",
              "    </tr>\n",
              "    <tr>\n",
              "      <th>2017</th>\n",
              "      <td>141</td>\n",
              "    </tr>\n",
              "  </tbody>\n",
              "</table>\n",
              "</div><br><label><b>dtype:</b> int64</label>"
            ]
          },
          "metadata": {},
          "execution_count": 51
        }
      ]
    },
    {
      "cell_type": "markdown",
      "source": [
        "4.Which Power Station had the highest average 'Planned Maintenance (MW)' during the winter months (December to February) across all years?"
      ],
      "metadata": {
        "id": "s6JqJwAqXLTN"
      }
    },
    {
      "cell_type": "code",
      "source": [
        "# use the dt.month to get month names and use boolen logical operator\n",
        "power1.groupby([(power1['dates'].dt.month > 11) | (power1['dates'].dt.month < 3),\"power_station\"] )[\"planned_maintanence_(mw)\"].mean().sort_values(ascending=False)"
      ],
      "metadata": {
        "colab": {
          "base_uri": "https://localhost:8080/",
          "height": 490
        },
        "id": "u4vUpTDNrpU7",
        "outputId": "91757a93-516f-42e7-cc1a-7be2bb67ee56"
      },
      "execution_count": null,
      "outputs": [
        {
          "output_type": "execute_result",
          "data": {
            "text/plain": [
              "dates  power_station  \n",
              "True   Andhra Pradesh.    730.615385\n",
              "       Uttar Pradesh      624.226216\n",
              "       Maharashtra        615.479915\n",
              "False  Maharashtra        558.428474\n",
              "       Rajasthan          547.275154\n",
              "                             ...    \n",
              "       NPGCPL               0.000000\n",
              "       CLPINDIA             0.000000\n",
              "       NDPL                 0.000000\n",
              "True   HMEL                 0.000000\n",
              "       BELLARY              0.000000\n",
              "Name: planned_maintanence_(mw), Length: 363, dtype: float64"
            ],
            "text/html": [
              "<div>\n",
              "<style scoped>\n",
              "    .dataframe tbody tr th:only-of-type {\n",
              "        vertical-align: middle;\n",
              "    }\n",
              "\n",
              "    .dataframe tbody tr th {\n",
              "        vertical-align: top;\n",
              "    }\n",
              "\n",
              "    .dataframe thead th {\n",
              "        text-align: right;\n",
              "    }\n",
              "</style>\n",
              "<table border=\"1\" class=\"dataframe\">\n",
              "  <thead>\n",
              "    <tr style=\"text-align: right;\">\n",
              "      <th></th>\n",
              "      <th></th>\n",
              "      <th>planned_maintanence_(mw)</th>\n",
              "    </tr>\n",
              "    <tr>\n",
              "      <th>dates</th>\n",
              "      <th>power_station</th>\n",
              "      <th></th>\n",
              "    </tr>\n",
              "  </thead>\n",
              "  <tbody>\n",
              "    <tr>\n",
              "      <th rowspan=\"3\" valign=\"top\">True</th>\n",
              "      <th>Andhra Pradesh.</th>\n",
              "      <td>730.615385</td>\n",
              "    </tr>\n",
              "    <tr>\n",
              "      <th>Uttar Pradesh</th>\n",
              "      <td>624.226216</td>\n",
              "    </tr>\n",
              "    <tr>\n",
              "      <th>Maharashtra</th>\n",
              "      <td>615.479915</td>\n",
              "    </tr>\n",
              "    <tr>\n",
              "      <th rowspan=\"6\" valign=\"top\">False</th>\n",
              "      <th>Maharashtra</th>\n",
              "      <td>558.428474</td>\n",
              "    </tr>\n",
              "    <tr>\n",
              "      <th>Rajasthan</th>\n",
              "      <td>547.275154</td>\n",
              "    </tr>\n",
              "    <tr>\n",
              "      <th>...</th>\n",
              "      <td>...</td>\n",
              "    </tr>\n",
              "    <tr>\n",
              "      <th>NPGCPL</th>\n",
              "      <td>0.000000</td>\n",
              "    </tr>\n",
              "    <tr>\n",
              "      <th>CLPINDIA</th>\n",
              "      <td>0.000000</td>\n",
              "    </tr>\n",
              "    <tr>\n",
              "      <th>NDPL</th>\n",
              "      <td>0.000000</td>\n",
              "    </tr>\n",
              "    <tr>\n",
              "      <th rowspan=\"2\" valign=\"top\">True</th>\n",
              "      <th>HMEL</th>\n",
              "      <td>0.000000</td>\n",
              "    </tr>\n",
              "    <tr>\n",
              "      <th>BELLARY</th>\n",
              "      <td>0.000000</td>\n",
              "    </tr>\n",
              "  </tbody>\n",
              "</table>\n",
              "<p>363 rows × 1 columns</p>\n",
              "</div><br><label><b>dtype:</b> float64</label>"
            ]
          },
          "metadata": {},
          "execution_count": 52
        }
      ]
    },
    {
      "cell_type": "markdown",
      "source": [
        "5.What is the median 'Actual (MU)' for each quarter in 2020?"
      ],
      "metadata": {
        "id": "H8CU4bRPXLXI"
      }
    },
    {
      "cell_type": "code",
      "source": [
        "# select year and use groupby and use to_period('Q') to get quarter\n",
        "power1[power1[\"year\"] == 2020].groupby(power1['dates'].dt.to_period('Q'))['actual(mu)'].median()"
      ],
      "metadata": {
        "colab": {
          "base_uri": "https://localhost:8080/",
          "height": 241
        },
        "id": "VbrTHIH9sAQi",
        "outputId": "b468d07d-2bde-40e3-c9fe-eeecf24f6f00"
      },
      "execution_count": null,
      "outputs": [
        {
          "output_type": "execute_result",
          "data": {
            "text/plain": [
              "dates\n",
              "2020Q1    6.0\n",
              "2020Q2    6.0\n",
              "2020Q3    6.0\n",
              "2020Q4    5.0\n",
              "Freq: Q-DEC, Name: actual(mu), dtype: float64"
            ],
            "text/html": [
              "<div>\n",
              "<style scoped>\n",
              "    .dataframe tbody tr th:only-of-type {\n",
              "        vertical-align: middle;\n",
              "    }\n",
              "\n",
              "    .dataframe tbody tr th {\n",
              "        vertical-align: top;\n",
              "    }\n",
              "\n",
              "    .dataframe thead th {\n",
              "        text-align: right;\n",
              "    }\n",
              "</style>\n",
              "<table border=\"1\" class=\"dataframe\">\n",
              "  <thead>\n",
              "    <tr style=\"text-align: right;\">\n",
              "      <th></th>\n",
              "      <th>actual(mu)</th>\n",
              "    </tr>\n",
              "    <tr>\n",
              "      <th>dates</th>\n",
              "      <th></th>\n",
              "    </tr>\n",
              "  </thead>\n",
              "  <tbody>\n",
              "    <tr>\n",
              "      <th>2020Q1</th>\n",
              "      <td>6.0</td>\n",
              "    </tr>\n",
              "    <tr>\n",
              "      <th>2020Q2</th>\n",
              "      <td>6.0</td>\n",
              "    </tr>\n",
              "    <tr>\n",
              "      <th>2020Q3</th>\n",
              "      <td>6.0</td>\n",
              "    </tr>\n",
              "    <tr>\n",
              "      <th>2020Q4</th>\n",
              "      <td>5.0</td>\n",
              "    </tr>\n",
              "  </tbody>\n",
              "</table>\n",
              "</div><br><label><b>dtype:</b> float64</label>"
            ]
          },
          "metadata": {},
          "execution_count": 53
        }
      ]
    },
    {
      "cell_type": "markdown",
      "source": [
        "6.What is the average 'Deviation' in the first quarter (Q1) of 2019?\n"
      ],
      "metadata": {
        "id": "C1JwS8H1XLa_"
      }
    },
    {
      "cell_type": "code",
      "source": [
        "# select year and use groupby and use to_period('Q') to get quarter\n",
        "power1[power1[\"year\"] == 2019].groupby(power1['dates'].dt.to_period('Q'))['deviation'].mean()"
      ],
      "metadata": {
        "colab": {
          "base_uri": "https://localhost:8080/",
          "height": 241
        },
        "id": "lf2eIIU_tVti",
        "outputId": "59b95c92-2ae7-4aa0-a75c-9f7d1c472209"
      },
      "execution_count": null,
      "outputs": [
        {
          "output_type": "execute_result",
          "data": {
            "text/plain": [
              "dates\n",
              "2019Q1    0.0\n",
              "2019Q2    0.0\n",
              "2019Q3    0.0\n",
              "2019Q4    0.0\n",
              "Freq: Q-DEC, Name: deviation, dtype: float64"
            ],
            "text/html": [
              "<div>\n",
              "<style scoped>\n",
              "    .dataframe tbody tr th:only-of-type {\n",
              "        vertical-align: middle;\n",
              "    }\n",
              "\n",
              "    .dataframe tbody tr th {\n",
              "        vertical-align: top;\n",
              "    }\n",
              "\n",
              "    .dataframe thead th {\n",
              "        text-align: right;\n",
              "    }\n",
              "</style>\n",
              "<table border=\"1\" class=\"dataframe\">\n",
              "  <thead>\n",
              "    <tr style=\"text-align: right;\">\n",
              "      <th></th>\n",
              "      <th>deviation</th>\n",
              "    </tr>\n",
              "    <tr>\n",
              "      <th>dates</th>\n",
              "      <th></th>\n",
              "    </tr>\n",
              "  </thead>\n",
              "  <tbody>\n",
              "    <tr>\n",
              "      <th>2019Q1</th>\n",
              "      <td>0.0</td>\n",
              "    </tr>\n",
              "    <tr>\n",
              "      <th>2019Q2</th>\n",
              "      <td>0.0</td>\n",
              "    </tr>\n",
              "    <tr>\n",
              "      <th>2019Q3</th>\n",
              "      <td>0.0</td>\n",
              "    </tr>\n",
              "    <tr>\n",
              "      <th>2019Q4</th>\n",
              "      <td>0.0</td>\n",
              "    </tr>\n",
              "  </tbody>\n",
              "</table>\n",
              "</div><br><label><b>dtype:</b> float64</label>"
            ]
          },
          "metadata": {},
          "execution_count": 54
        }
      ]
    },
    {
      "cell_type": "markdown",
      "source": [
        "7.What is the total 'Actual(MU)' generated on weekends (Saturday and Sunday) in 2018?"
      ],
      "metadata": {
        "id": "3ipXQrd4XLgv"
      }
    },
    {
      "cell_type": "code",
      "source": [
        "# select year and use groupby\n",
        "power1[power1[\"year\"] == 2018].groupby('is_week_end')['actual(mu)'].sum()"
      ],
      "metadata": {
        "colab": {
          "base_uri": "https://localhost:8080/",
          "height": 178
        },
        "id": "PtWCqCTmtteJ",
        "outputId": "69f0e257-4da5-43fe-8251-a9aa59408a01"
      },
      "execution_count": null,
      "outputs": [
        {
          "output_type": "execute_result",
          "data": {
            "text/plain": [
              "is_week_end\n",
              "False    876341\n",
              "True     342018\n",
              "Name: actual(mu), dtype: int64"
            ],
            "text/html": [
              "<div>\n",
              "<style scoped>\n",
              "    .dataframe tbody tr th:only-of-type {\n",
              "        vertical-align: middle;\n",
              "    }\n",
              "\n",
              "    .dataframe tbody tr th {\n",
              "        vertical-align: top;\n",
              "    }\n",
              "\n",
              "    .dataframe thead th {\n",
              "        text-align: right;\n",
              "    }\n",
              "</style>\n",
              "<table border=\"1\" class=\"dataframe\">\n",
              "  <thead>\n",
              "    <tr style=\"text-align: right;\">\n",
              "      <th></th>\n",
              "      <th>actual(mu)</th>\n",
              "    </tr>\n",
              "    <tr>\n",
              "      <th>is_week_end</th>\n",
              "      <th></th>\n",
              "    </tr>\n",
              "  </thead>\n",
              "  <tbody>\n",
              "    <tr>\n",
              "      <th>False</th>\n",
              "      <td>876341</td>\n",
              "    </tr>\n",
              "    <tr>\n",
              "      <th>True</th>\n",
              "      <td>342018</td>\n",
              "    </tr>\n",
              "  </tbody>\n",
              "</table>\n",
              "</div><br><label><b>dtype:</b> int64</label>"
            ]
          },
          "metadata": {},
          "execution_count": 55
        }
      ]
    },
    {
      "cell_type": "markdown",
      "source": [
        "8.Which Power Station had the highest average 'Excess(+) / Shortfall (-)' in 2019?"
      ],
      "metadata": {
        "id": "Xb5SWXcTXLkJ"
      }
    },
    {
      "cell_type": "code",
      "source": [
        "# select year and use groupby\n",
        "power1[power1[\"year\"] == 2019].groupby('power_station')['excess_or_shortfall'].mean().sort_values(ascending=False)"
      ],
      "metadata": {
        "colab": {
          "base_uri": "https://localhost:8080/",
          "height": 490
        },
        "id": "g62q5gViunGb",
        "outputId": "c0eff688-4972-4f80-d9ff-c4cdc373f48b"
      },
      "execution_count": null,
      "outputs": [
        {
          "output_type": "execute_result",
          "data": {
            "text/plain": [
              "power_station\n",
              "GCEL                     8.262712\n",
              "EPGL                     7.711370\n",
              "BBMB                     7.560592\n",
              "SPL                      5.955671\n",
              "TOR. POW. (UNOSUGEN)     5.254548\n",
              "                          ...    \n",
              "Karnataka              -14.318904\n",
              "Maharashtra            -15.497288\n",
              "Gujarat                -17.435890\n",
              "Andhra Pradesh         -18.570317\n",
              "Rajasthan              -26.199342\n",
              "Name: excess_or_shortfall, Length: 167, dtype: float64"
            ],
            "text/html": [
              "<div>\n",
              "<style scoped>\n",
              "    .dataframe tbody tr th:only-of-type {\n",
              "        vertical-align: middle;\n",
              "    }\n",
              "\n",
              "    .dataframe tbody tr th {\n",
              "        vertical-align: top;\n",
              "    }\n",
              "\n",
              "    .dataframe thead th {\n",
              "        text-align: right;\n",
              "    }\n",
              "</style>\n",
              "<table border=\"1\" class=\"dataframe\">\n",
              "  <thead>\n",
              "    <tr style=\"text-align: right;\">\n",
              "      <th></th>\n",
              "      <th>excess_or_shortfall</th>\n",
              "    </tr>\n",
              "    <tr>\n",
              "      <th>power_station</th>\n",
              "      <th></th>\n",
              "    </tr>\n",
              "  </thead>\n",
              "  <tbody>\n",
              "    <tr>\n",
              "      <th>GCEL</th>\n",
              "      <td>8.262712</td>\n",
              "    </tr>\n",
              "    <tr>\n",
              "      <th>EPGL</th>\n",
              "      <td>7.711370</td>\n",
              "    </tr>\n",
              "    <tr>\n",
              "      <th>BBMB</th>\n",
              "      <td>7.560592</td>\n",
              "    </tr>\n",
              "    <tr>\n",
              "      <th>SPL</th>\n",
              "      <td>5.955671</td>\n",
              "    </tr>\n",
              "    <tr>\n",
              "      <th>TOR. POW. (UNOSUGEN)</th>\n",
              "      <td>5.254548</td>\n",
              "    </tr>\n",
              "    <tr>\n",
              "      <th>...</th>\n",
              "      <td>...</td>\n",
              "    </tr>\n",
              "    <tr>\n",
              "      <th>Karnataka</th>\n",
              "      <td>-14.318904</td>\n",
              "    </tr>\n",
              "    <tr>\n",
              "      <th>Maharashtra</th>\n",
              "      <td>-15.497288</td>\n",
              "    </tr>\n",
              "    <tr>\n",
              "      <th>Gujarat</th>\n",
              "      <td>-17.435890</td>\n",
              "    </tr>\n",
              "    <tr>\n",
              "      <th>Andhra Pradesh</th>\n",
              "      <td>-18.570317</td>\n",
              "    </tr>\n",
              "    <tr>\n",
              "      <th>Rajasthan</th>\n",
              "      <td>-26.199342</td>\n",
              "    </tr>\n",
              "  </tbody>\n",
              "</table>\n",
              "<p>167 rows × 1 columns</p>\n",
              "</div><br><label><b>dtype:</b> float64</label>"
            ]
          },
          "metadata": {},
          "execution_count": 56
        }
      ]
    },
    {
      "cell_type": "markdown",
      "source": [
        "9.What is the median 'Total Cap. Under Maintenance (MW)' during the monsoon months (June to September) across all years?"
      ],
      "metadata": {
        "id": "KYAk3p0JXLnV"
      }
    },
    {
      "cell_type": "code",
      "source": [
        "# use the dt.month to get month names and use boolen logical operator\n",
        "power1.groupby((power1['dates'].dt.month > 5) & (power1['dates'].dt.month < 10) )[\"total_cap__under_maintenace_(mw)\"].median()"
      ],
      "metadata": {
        "colab": {
          "base_uri": "https://localhost:8080/",
          "height": 178
        },
        "id": "_QtA5v5YvLfz",
        "outputId": "01c09a31-7b0c-4d0a-ca6e-54f3a356f3f8"
      },
      "execution_count": null,
      "outputs": [
        {
          "output_type": "execute_result",
          "data": {
            "text/plain": [
              "dates\n",
              "False    135.0\n",
              "True     135.0\n",
              "Name: total_cap__under_maintenace_(mw), dtype: float64"
            ],
            "text/html": [
              "<div>\n",
              "<style scoped>\n",
              "    .dataframe tbody tr th:only-of-type {\n",
              "        vertical-align: middle;\n",
              "    }\n",
              "\n",
              "    .dataframe tbody tr th {\n",
              "        vertical-align: top;\n",
              "    }\n",
              "\n",
              "    .dataframe thead th {\n",
              "        text-align: right;\n",
              "    }\n",
              "</style>\n",
              "<table border=\"1\" class=\"dataframe\">\n",
              "  <thead>\n",
              "    <tr style=\"text-align: right;\">\n",
              "      <th></th>\n",
              "      <th>total_cap__under_maintenace_(mw)</th>\n",
              "    </tr>\n",
              "    <tr>\n",
              "      <th>dates</th>\n",
              "      <th></th>\n",
              "    </tr>\n",
              "  </thead>\n",
              "  <tbody>\n",
              "    <tr>\n",
              "      <th>False</th>\n",
              "      <td>135.0</td>\n",
              "    </tr>\n",
              "    <tr>\n",
              "      <th>True</th>\n",
              "      <td>135.0</td>\n",
              "    </tr>\n",
              "  </tbody>\n",
              "</table>\n",
              "</div><br><label><b>dtype:</b> float64</label>"
            ]
          },
          "metadata": {},
          "execution_count": 57
        }
      ]
    },
    {
      "cell_type": "markdown",
      "source": [
        "10.What is the percentage of days in 2020 where 'Actual(MU)' was less than 'Programme or Expected(MU)'?"
      ],
      "metadata": {
        "id": "qwIMH7Q_XLun"
      }
    },
    {
      "cell_type": "code",
      "source": [
        "#new DataFrame for year 2020 and given condition and their count :\n",
        "df = power1[power1[\"actual(mu)\"] < power[\"programme_or_expected(mu)\"]].groupby(power1['dates'].dt.year == 2020)['dates'].count()\n",
        "\n",
        "# true_count => number of days where it satisfies the condition for the year 2020\n",
        "T_count = df[True]\n",
        "\n",
        "# total number of days in 2020\n",
        "total_count = power1[power1['dates'].dt.year==2020]['dates'].count()\n",
        "\n",
        "# ans => calculate percentage with the acquired values:\n",
        "per= (T_count/total_count)*100\n",
        "per"
      ],
      "metadata": {
        "colab": {
          "base_uri": "https://localhost:8080/"
        },
        "id": "SE838-jbMKJf",
        "outputId": "30a7a410-4943-41e8-c7d2-ddaa67fc6172"
      },
      "execution_count": null,
      "outputs": [
        {
          "output_type": "execute_result",
          "data": {
            "text/plain": [
              "31.650966629725403"
            ]
          },
          "metadata": {},
          "execution_count": 58
        }
      ]
    }
  ]
}